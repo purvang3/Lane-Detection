{
 "cells": [
  {
   "cell_type": "markdown",
   "metadata": {
    "deletable": true,
    "editable": true
   },
   "source": [
    "# Project #1 - Finding the Lane Lines on the Road"
   ]
  },
  {
   "cell_type": "markdown",
   "metadata": {
    "deletable": true,
    "editable": true
   },
   "source": [
    "## We need to import the initial packages"
   ]
  },
  {
   "cell_type": "code",
   "execution_count": 237,
   "metadata": {
    "collapsed": false,
    "deletable": true,
    "editable": true
   },
   "outputs": [],
   "source": [
    "#importing some useful packages\n",
    "import matplotlib.pyplot as plt\n",
    "import matplotlib.image as mpimg\n",
    "import numpy as np\n",
    "import cv2\n",
    "import os\n",
    "import random\n",
    "%matplotlib inline\n",
    "\n",
    "\n",
    "# Import everything needed to edit/save/watch video clips\n",
    "from moviepy.editor import VideoFileClip\n",
    "from IPython.display import display, HTML"
   ]
  },
  {
   "cell_type": "markdown",
   "metadata": {
    "deletable": true,
    "editable": true
   },
   "source": [
    "## Create helper functions\n",
    "Provided by the (project seed)[https://github.com/udacity/CarND-LaneLines-P1/blob/master/P1.ipynb]"
   ]
  },
  {
   "cell_type": "code",
   "execution_count": 252,
   "metadata": {
    "collapsed": false,
    "deletable": true,
    "editable": true
   },
   "outputs": [],
   "source": [
    "import math\n",
    "\n",
    "def grayscale(img):\n",
    "    \"\"\"Applies the Grayscale transform\n",
    "    This will return an image with only one color channel\n",
    "    but NOTE: to see the returned image as grayscale\n",
    "    (assuming your grayscaled image is called 'gray')\n",
    "    you should call plt.imshow(gray, cmap='gray')\"\"\"\n",
    "    #return cv2.cvtColor(img, cv2.COLOR_RGB2GRAY)\n",
    "    # Or use BGR2GRAY if you read an image with cv2.imread()\n",
    "    return cv2.cvtColor(img, cv2.COLOR_BGR2GRAY)\n",
    "    \n",
    "def canny(img, low_threshold, high_threshold):\n",
    "    \"\"\"Applies the Canny transform\"\"\"\n",
    "    return cv2.Canny(img, low_threshold, high_threshold)\n",
    "\n",
    "def gaussian_blur(img, kernel_size):\n",
    "    \"\"\"Applies a Gaussian Noise kernel\"\"\"\n",
    "    return cv2.GaussianBlur(img, (kernel_size, kernel_size), 0)\n",
    "\n",
    "def region_of_interest(img, vertices):\n",
    "    \"\"\"\n",
    "    Applies an image mask.\n",
    "    \n",
    "    Only keeps the region of the image defined by the polygon\n",
    "    formed from `vertices`. The rest of the image is set to black.\n",
    "    \"\"\"\n",
    "    #defining a blank mask to start with\n",
    "    mask = np.zeros_like(img)   \n",
    "    \n",
    "    #defining a 3 channel or 1 channel color to fill the mask with depending on the input image\n",
    "    if len(img.shape) > 2:\n",
    "        channel_count = img.shape[2]  # i.e. 3 or 4 depending on your image\n",
    "        ignore_mask_color = (255,) * channel_count\n",
    "    else:\n",
    "        ignore_mask_color = 255\n",
    "        \n",
    "    #filling pixels inside the polygon defined by \"vertices\" with the fill color    \n",
    "    cv2.fillPoly(mask, vertices, ignore_mask_color)\n",
    "    \n",
    "    #returning the image only where mask pixels are nonzero\n",
    "    masked_image = cv2.bitwise_and(img, mask)\n",
    "    return masked_image\n",
    "\n",
    "def drawLine(img, x, y, color=[255, 0, 0], thickness=20):\n",
    "    \"\"\"\n",
    "    Adjust a line to the points [`x`, `y`] and draws it on the image `img` using `color` and `thickness` for the line.\n",
    "    \"\"\"\n",
    "    if len(x) == 0: \n",
    "        return\n",
    "    \n",
    "    lineParameters = np.polyfit(x, y, 1) \n",
    "    \n",
    "    m = lineParameters[0]\n",
    "    b = lineParameters[1]\n",
    "    \n",
    "    maxY = img.shape[0]\n",
    "    maxX = img.shape[1]\n",
    "    y1 = maxY\n",
    "    x1 = int((y1 - b)/m)\n",
    "    y2 = int((maxY/2)) + 60\n",
    "    x2 = int((y2 - b)/m)\n",
    "    cv2.line(img, (x1, y1), (x2, y2), [255, 0, 0], 4)\n",
    "\n",
    "def draw_lines(img, lines, color=[255, 0, 0], thickness=20):\n",
    "    \"\"\"\n",
    "    NOTE: this is the function you might want to use as a starting point once you want to \n",
    "    average/extrapolate the line segments you detect to map out the full\n",
    "    extent of the lane (going from the result shown in raw-lines-example.mp4\n",
    "    to that shown in P1_example.mp4).  \n",
    "    \n",
    "    Think about things like separating line segments by their \n",
    "    slope ((y2-y1)/(x2-x1)) to decide which segments are part of the left\n",
    "    line vs. the right line.  Then, you can average the position of each of \n",
    "    the lines and extrapolate to the top and bottom of the lane.\n",
    "    \n",
    "    This function draws `lines` with `color` and `thickness`.    \n",
    "    Lines are drawn on the image inplace (mutates the image).\n",
    "    If you want to make the lines semi-transparent, think about combining\n",
    "    this function with the weighted_img() function below\n",
    "    \"\"\"\n",
    "    \n",
    "    leftPointsX = []\n",
    "    leftPointsY = []\n",
    "    rightPointsX = []\n",
    "    rightPointsY = []\n",
    "\n",
    "    for line in lines:\n",
    "        for x1,y1,x2,y2 in line:\n",
    "            m = (y1 - y2)/(x1 - x2)\n",
    "            if m < 0:\n",
    "                leftPointsX.append(x1)\n",
    "                leftPointsY.append(y1)\n",
    "                leftPointsX.append(x2)\n",
    "                leftPointsY.append(y2)\n",
    "            else:\n",
    "                rightPointsX.append(x1)\n",
    "                rightPointsY.append(y1)\n",
    "                rightPointsX.append(x2)\n",
    "                rightPointsY.append(y2)\n",
    "\n",
    "    drawLine(img, leftPointsX, leftPointsY, color, thickness)\n",
    "        \n",
    "    drawLine(img, rightPointsX, rightPointsY, color, thickness)\n",
    "\n",
    "def hough_lines(img, rho, theta, threshold, min_line_len, max_line_gap):\n",
    "    \"\"\"\n",
    "    `img` should be the output of a Canny transform.\n",
    "        \n",
    "    Returns an image with hough lines drawn.\n",
    "    \"\"\"\n",
    "    lines = cv2.HoughLinesP(img, rho, theta, threshold, np.array([]), minLineLength=min_line_len, maxLineGap=max_line_gap)\n",
    "    line_img = np.zeros((img.shape[0], img.shape[1], 3), dtype=np.uint8)\n",
    "    draw_lines(line_img, lines)\n",
    "    return line_img\n",
    "\n",
    "# Python 3 has support for cool math symbols.\n",
    "\n",
    "def weighted_img(img, initial_img, α=0.8, β=1., λ=0.):\n",
    "    \"\"\"\n",
    "    `img` is the output of the hough_lines(), An image with lines drawn on it.\n",
    "    Should be a blank image (all black) with lines drawn on it.\n",
    "    \n",
    "    `initial_img` should be the image before any processing.\n",
    "    \n",
    "    The result image is computed as follows:\n",
    "    \n",
    "    initial_img * α + img * β + λ\n",
    "    NOTE: initial_img and img must be the same shape!\n",
    "    \"\"\"\n",
    "    return cv2.addWeighted(initial_img, α, img, β, λ)"
   ]
  },
  {
   "cell_type": "code",
   "execution_count": 253,
   "metadata": {
    "collapsed": false,
    "deletable": true,
    "editable": true
   },
   "outputs": [],
   "source": [
    "def showImagesInHtml(images, dir):\n",
    "    \"\"\"\n",
    "    Shows the list of `images` names on the directory `dir` as HTML embeded on the page.\n",
    "    \"\"\"\n",
    "    randomNumber = random.randint(1, 100000)\n",
    "    buffer = \"<div>\"\n",
    "    for img in images:\n",
    "        imgSource = dir + '/' + img + \"?\" + str(randomNumber)\n",
    "        buffer += \"\"\"<img src=\"{0}\" width=\"300\" height=\"110\" style=\"float:left; margin:1px\"/>\"\"\".format(imgSource)\n",
    "    buffer += \"</div>\"\n",
    "    display(HTML(buffer))\n",
    "\n",
    "def saveImages(images, outputDir, imageNames, isGray=0):\n",
    "    \"\"\"\n",
    "    Writes the `images` to the `outputDir` directory using the `imagesNames`.\n",
    "    It creates the output directory if it doesn't exists.\n",
    "    \n",
    "    Example:\n",
    "    \n",
    "    saveImages([img1], 'tempDir', ['myImage.jpg'])\n",
    "    \n",
    "    Will save the image on the path: tempDir/myImage.jpg\n",
    "    \n",
    "    \"\"\"\n",
    "    if not os.path.exists(outputDir):\n",
    "        os.makedirs(outputDir)\n",
    "        \n",
    "    zipped = list(map(lambda imgZip: (outputDir + '/' + imgZip[1], imgZip[0]), zip(images, imageNames)))\n",
    "    for imgPair in zipped:\n",
    "        if isGray:\n",
    "            plt.imsave(imgPair[0], imgPair[1], cmap='gray')\n",
    "        else :\n",
    "            plt.imsave(imgPair[0], imgPair[1])\n",
    "        \n",
    "def doSaveAndDisplay(images, outputDir, imageNames, somethingToDo, isGray=0):\n",
    "    \"\"\"\n",
    "    Applies the lambda `somethingToDo` to `images`, safe the results at the directory `outputDir`,\n",
    "    and render the results in html.\n",
    "    \n",
    "    It returns the output images.\n",
    "    \"\"\"\n",
    "    outputImages = list(map(somethingToDo, images))\n",
    "    saveImages(outputImages, outputDir, imageNames, isGray)\n",
    "    showImagesInHtml(imageNames, outputDir)\n",
    "    return outputImages"
   ]
  },
  {
   "cell_type": "markdown",
   "metadata": {
    "deletable": true,
    "editable": true
   },
   "source": [
    "# Loading test images"
   ]
  },
  {
   "cell_type": "code",
   "execution_count": 254,
   "metadata": {
    "collapsed": false,
    "deletable": true,
    "editable": true
   },
   "outputs": [
    {
     "data": {
      "text/html": [
       "<div><img src=\"test_images/solidWhiteCurve.jpg?16941\" width=\"300\" height=\"110\" style=\"float:left; margin:1px\"/><img src=\"test_images/solidWhiteRight.jpg?16941\" width=\"300\" height=\"110\" style=\"float:left; margin:1px\"/><img src=\"test_images/solidYellowCurve.jpg?16941\" width=\"300\" height=\"110\" style=\"float:left; margin:1px\"/><img src=\"test_images/solidYellowCurve2.jpg?16941\" width=\"300\" height=\"110\" style=\"float:left; margin:1px\"/><img src=\"test_images/solidYellowLeft.jpg?16941\" width=\"300\" height=\"110\" style=\"float:left; margin:1px\"/><img src=\"test_images/whiteCarLaneSwitch.jpg?16941\" width=\"300\" height=\"110\" style=\"float:left; margin:1px\"/></div>"
      ],
      "text/plain": [
       "<IPython.core.display.HTML object>"
      ]
     },
     "metadata": {},
     "output_type": "display_data"
    }
   ],
   "source": [
    "testImagesDir = 'test_images'\n",
    "testImageNames = os.listdir(testImagesDir)\n",
    "showImagesInHtml(testImageNames, testImagesDir)\n",
    "testImages = list(map(lambda img: plt.imread(testImagesDir + '/' + img), testImageNames))"
   ]
  },
  {
   "cell_type": "markdown",
   "metadata": {
    "deletable": true,
    "editable": true
   },
   "source": [
    "# Converting images into gray scale"
   ]
  },
  {
   "cell_type": "code",
   "execution_count": 255,
   "metadata": {
    "collapsed": false,
    "deletable": true,
    "editable": true
   },
   "outputs": [
    {
     "data": {
      "text/html": [
       "<div><img src=\"test_images_gray/solidWhiteCurve.jpg?1379\" width=\"300\" height=\"110\" style=\"float:left; margin:1px\"/><img src=\"test_images_gray/solidWhiteRight.jpg?1379\" width=\"300\" height=\"110\" style=\"float:left; margin:1px\"/><img src=\"test_images_gray/solidYellowCurve.jpg?1379\" width=\"300\" height=\"110\" style=\"float:left; margin:1px\"/><img src=\"test_images_gray/solidYellowCurve2.jpg?1379\" width=\"300\" height=\"110\" style=\"float:left; margin:1px\"/><img src=\"test_images_gray/solidYellowLeft.jpg?1379\" width=\"300\" height=\"110\" style=\"float:left; margin:1px\"/><img src=\"test_images_gray/whiteCarLaneSwitch.jpg?1379\" width=\"300\" height=\"110\" style=\"float:left; margin:1px\"/></div>"
      ],
      "text/plain": [
       "<IPython.core.display.HTML object>"
      ]
     },
     "metadata": {},
     "output_type": "display_data"
    }
   ],
   "source": [
    "def grayAction(img):\n",
    "    return grayscale(img)\n",
    "\n",
    "testImagesGray = doSaveAndDisplay(testImages, 'test_images_gray', testImageNames, grayAction, 1)"
   ]
  },
  {
   "cell_type": "markdown",
   "metadata": {
    "deletable": true,
    "editable": true
   },
   "source": [
    "# Applying Gaussian smoothing"
   ]
  },
  {
   "cell_type": "code",
   "execution_count": 256,
   "metadata": {
    "collapsed": false,
    "deletable": true,
    "editable": true
   },
   "outputs": [
    {
     "data": {
      "text/html": [
       "<div><img src=\"test_images_blur/solidWhiteCurve.jpg?90983\" width=\"300\" height=\"110\" style=\"float:left; margin:1px\"/><img src=\"test_images_blur/solidWhiteRight.jpg?90983\" width=\"300\" height=\"110\" style=\"float:left; margin:1px\"/><img src=\"test_images_blur/solidYellowCurve.jpg?90983\" width=\"300\" height=\"110\" style=\"float:left; margin:1px\"/><img src=\"test_images_blur/solidYellowCurve2.jpg?90983\" width=\"300\" height=\"110\" style=\"float:left; margin:1px\"/><img src=\"test_images_blur/solidYellowLeft.jpg?90983\" width=\"300\" height=\"110\" style=\"float:left; margin:1px\"/><img src=\"test_images_blur/whiteCarLaneSwitch.jpg?90983\" width=\"300\" height=\"110\" style=\"float:left; margin:1px\"/></div>"
      ],
      "text/plain": [
       "<IPython.core.display.HTML object>"
      ]
     },
     "metadata": {},
     "output_type": "display_data"
    }
   ],
   "source": [
    "blur_kernel_size = 15\n",
    "blurAction = lambda img:gaussian_blur(img, blur_kernel_size)\n",
    "\n",
    "testImagesBlur = doSaveAndDisplay(testImagesGray, 'test_images_blur', testImageNames, blurAction, 1)"
   ]
  },
  {
   "cell_type": "markdown",
   "metadata": {
    "deletable": true,
    "editable": true
   },
   "source": [
    "# Applying Canny transform"
   ]
  },
  {
   "cell_type": "code",
   "execution_count": 257,
   "metadata": {
    "collapsed": false,
    "deletable": true,
    "editable": true
   },
   "outputs": [
    {
     "data": {
      "text/html": [
       "<div><img src=\"test_images_canny/solidWhiteCurve.jpg?15472\" width=\"300\" height=\"110\" style=\"float:left; margin:1px\"/><img src=\"test_images_canny/solidWhiteRight.jpg?15472\" width=\"300\" height=\"110\" style=\"float:left; margin:1px\"/><img src=\"test_images_canny/solidYellowCurve.jpg?15472\" width=\"300\" height=\"110\" style=\"float:left; margin:1px\"/><img src=\"test_images_canny/solidYellowCurve2.jpg?15472\" width=\"300\" height=\"110\" style=\"float:left; margin:1px\"/><img src=\"test_images_canny/solidYellowLeft.jpg?15472\" width=\"300\" height=\"110\" style=\"float:left; margin:1px\"/><img src=\"test_images_canny/whiteCarLaneSwitch.jpg?15472\" width=\"300\" height=\"110\" style=\"float:left; margin:1px\"/></div>"
      ],
      "text/plain": [
       "<IPython.core.display.HTML object>"
      ]
     },
     "metadata": {},
     "output_type": "display_data"
    }
   ],
   "source": [
    "canny_low_threshold = 20\n",
    "canny_high_threshold = 100\n",
    "cannyAction = lambda img:canny(img, canny_low_threshold, canny_high_threshold)\n",
    "testImagesCanny = doSaveAndDisplay(testImagesBlur, 'test_images_canny', testImageNames, cannyAction)"
   ]
  },
  {
   "cell_type": "markdown",
   "metadata": {
    "deletable": true,
    "editable": true
   },
   "source": [
    "# Applying Region of Interest"
   ]
  },
  {
   "cell_type": "code",
   "execution_count": 258,
   "metadata": {
    "collapsed": false,
    "deletable": true,
    "editable": true
   },
   "outputs": [
    {
     "data": {
      "text/html": [
       "<div><img src=\"test_images_region/solidWhiteCurve.jpg?12264\" width=\"300\" height=\"110\" style=\"float:left; margin:1px\"/><img src=\"test_images_region/solidWhiteRight.jpg?12264\" width=\"300\" height=\"110\" style=\"float:left; margin:1px\"/><img src=\"test_images_region/solidYellowCurve.jpg?12264\" width=\"300\" height=\"110\" style=\"float:left; margin:1px\"/><img src=\"test_images_region/solidYellowCurve2.jpg?12264\" width=\"300\" height=\"110\" style=\"float:left; margin:1px\"/><img src=\"test_images_region/solidYellowLeft.jpg?12264\" width=\"300\" height=\"110\" style=\"float:left; margin:1px\"/><img src=\"test_images_region/whiteCarLaneSwitch.jpg?12264\" width=\"300\" height=\"110\" style=\"float:left; margin:1px\"/></div>"
      ],
      "text/plain": [
       "<IPython.core.display.HTML object>"
      ]
     },
     "metadata": {},
     "output_type": "display_data"
    }
   ],
   "source": [
    "def maskAction(img):\n",
    "    ysize = img.shape[0]\n",
    "    xsize = img.shape[1]\n",
    "    region = np.array([ [0, ysize], [xsize/2,(ysize/2)+ 10], [xsize,ysize] ], np.int32)\n",
    "    return region_of_interest(img, [region])\n",
    "\n",
    "testImagesMasked = doSaveAndDisplay(testImagesCanny, 'test_images_region', testImageNames, maskAction)"
   ]
  },
  {
   "cell_type": "markdown",
   "metadata": {
    "deletable": true,
    "editable": true
   },
   "source": [
    "# Applying Hough transform"
   ]
  },
  {
   "cell_type": "code",
   "execution_count": 259,
   "metadata": {
    "collapsed": false,
    "deletable": true,
    "editable": true
   },
   "outputs": [
    {
     "data": {
      "text/html": [
       "<div><img src=\"test_images_hough/solidWhiteCurve.jpg?48614\" width=\"300\" height=\"110\" style=\"float:left; margin:1px\"/><img src=\"test_images_hough/solidWhiteRight.jpg?48614\" width=\"300\" height=\"110\" style=\"float:left; margin:1px\"/><img src=\"test_images_hough/solidYellowCurve.jpg?48614\" width=\"300\" height=\"110\" style=\"float:left; margin:1px\"/><img src=\"test_images_hough/solidYellowCurve2.jpg?48614\" width=\"300\" height=\"110\" style=\"float:left; margin:1px\"/><img src=\"test_images_hough/solidYellowLeft.jpg?48614\" width=\"300\" height=\"110\" style=\"float:left; margin:1px\"/><img src=\"test_images_hough/whiteCarLaneSwitch.jpg?48614\" width=\"300\" height=\"110\" style=\"float:left; margin:1px\"/></div>"
      ],
      "text/plain": [
       "<IPython.core.display.HTML object>"
      ]
     },
     "metadata": {},
     "output_type": "display_data"
    }
   ],
   "source": [
    "rho = 1 # distance resolution in pixels of the Hough grid\n",
    "theta = np.pi/180 # angular resolution in radians of the Hough grid\n",
    "threshold = 10     # minimum number of votes (intersections in Hough grid cell)\n",
    "min_line_length = 20 #minimum number of pixels making up a line\n",
    "max_line_gap = 1    # maximum gap in pixels between connectable line segments\n",
    "\n",
    "houghAction = lambda img: hough_lines(img, rho, theta, threshold, min_line_length, max_line_gap)\n",
    "\n",
    "testImagesLines = doSaveAndDisplay(testImagesMasked, 'test_images_hough', testImageNames, houghAction)\n"
   ]
  },
  {
   "cell_type": "markdown",
   "metadata": {
    "deletable": true,
    "editable": true
   },
   "source": [
    "# Merging original image with lines"
   ]
  },
  {
   "cell_type": "code",
   "execution_count": 260,
   "metadata": {
    "collapsed": false,
    "deletable": true,
    "editable": true
   },
   "outputs": [
    {
     "data": {
      "text/html": [
       "<div><img src=\"test_images_merged/solidWhiteCurve.jpg?46176\" width=\"300\" height=\"110\" style=\"float:left; margin:1px\"/><img src=\"test_images_merged/solidWhiteRight.jpg?46176\" width=\"300\" height=\"110\" style=\"float:left; margin:1px\"/><img src=\"test_images_merged/solidYellowCurve.jpg?46176\" width=\"300\" height=\"110\" style=\"float:left; margin:1px\"/><img src=\"test_images_merged/solidYellowCurve2.jpg?46176\" width=\"300\" height=\"110\" style=\"float:left; margin:1px\"/><img src=\"test_images_merged/solidYellowLeft.jpg?46176\" width=\"300\" height=\"110\" style=\"float:left; margin:1px\"/><img src=\"test_images_merged/whiteCarLaneSwitch.jpg?46176\" width=\"300\" height=\"110\" style=\"float:left; margin:1px\"/></div>"
      ],
      "text/plain": [
       "<IPython.core.display.HTML object>"
      ]
     },
     "metadata": {},
     "output_type": "display_data"
    }
   ],
   "source": [
    "testImagesMergeTemp = list(map(lambda imgs: weighted_img(imgs[0], imgs[1]), zip(testImages,testImagesLines) ))\n",
    "testImagesMerged = doSaveAndDisplay(testImagesMergeTemp, 'test_images_merged', testImageNames, lambda img: img)"
   ]
  },
  {
   "cell_type": "markdown",
   "metadata": {
    "collapsed": false,
    "deletable": true,
    "editable": true
   },
   "source": [
    "# Videos test"
   ]
  },
  {
   "cell_type": "code",
   "execution_count": 261,
   "metadata": {
    "collapsed": true,
    "deletable": true,
    "editable": true
   },
   "outputs": [],
   "source": [
    "# Import everything needed to edit/save/watch video clips\n",
    "from moviepy.editor import VideoFileClip\n",
    "from IPython.display import HTML"
   ]
  },
  {
   "cell_type": "code",
   "execution_count": 262,
   "metadata": {
    "collapsed": false
   },
   "outputs": [],
   "source": [
    "def process_image(image):\n",
    "    # NOTE: The output you return should be a color image (3 channel) for processing video below\n",
    "    # TODO: put your pipeline here,\n",
    "    # you should return the final output (image where lines are drawn on lanes)\n",
    "    \n",
    "    withLines = houghAction( maskAction( cannyAction( blurAction( grayAction(image) ) ) ) )\n",
    "    \n",
    "    return weighted_img(image, withLines)\n",
    "\n",
    "\n",
    "def processVideo(videoFileName, inputVideoDir, outputVideoDir):\n",
    "    \"\"\"\n",
    "    Applys the process_image pipeline to the video `videoFileName` on the directory `inputVideoDir`.\n",
    "    The video is displayed and also saved with the same name on the directory `outputVideoDir`.\n",
    "    \"\"\"\n",
    "    if not os.path.exists(outputVideoDir):\n",
    "        os.makedirs(outputVideoDir)\n",
    "    clip = VideoFileClip(inputVideoDir + '/' + videoFileName)\n",
    "    outputClip = clip.fl_image(process_image)\n",
    "    outVideoFile = outputVideoDir + '/' + videoFileName\n",
    "    outputClip.write_videofile(outVideoFile, audio=False)\n",
    "    display(\n",
    "        HTML(\"\"\"\n",
    "        <video width=\"960\" height=\"540\" controls>\n",
    "          <source src=\"{0}\">\n",
    "        </video>\n",
    "        \"\"\".format(outVideoFile))\n",
    "    )"
   ]
  },
  {
   "cell_type": "markdown",
   "metadata": {},
   "source": [
    "# White lane video test"
   ]
  },
  {
   "cell_type": "code",
   "execution_count": 263,
   "metadata": {
    "collapsed": false
   },
   "outputs": [
    {
     "name": "stdout",
     "output_type": "stream",
     "text": [
      "[MoviePy] >>>> Building video test_videos_output/solidWhiteRight.mp4\n",
      "[MoviePy] Writing video test_videos_output/solidWhiteRight.mp4\n"
     ]
    },
    {
     "name": "stderr",
     "output_type": "stream",
     "text": [
      "\n",
      "\n",
      "  0%|          | 0/222 [00:00<?, ?it/s]\u001b[A\u001b[A\n",
      "\n",
      "  5%|▌         | 12/222 [00:00<00:01, 110.16it/s]\u001b[A\u001b[A\n",
      "\n",
      " 11%|█         | 24/222 [00:00<00:01, 111.19it/s]\u001b[A\u001b[A\n",
      "\n",
      " 16%|█▌        | 36/222 [00:00<00:01, 112.54it/s]\u001b[A\u001b[A\n",
      "\n",
      " 21%|██        | 47/222 [00:00<00:01, 101.25it/s]\u001b[A\u001b[A\n",
      "\n",
      " 26%|██▌       | 57/222 [00:00<00:01, 97.36it/s] \u001b[A\u001b[A\n",
      "\n",
      " 30%|██▉       | 66/222 [00:00<00:01, 93.22it/s]\u001b[A\u001b[A\n",
      "\n",
      " 34%|███▍      | 75/222 [00:00<00:01, 90.84it/s]\u001b[A\u001b[A\n",
      "\n",
      " 38%|███▊      | 84/222 [00:00<00:01, 86.87it/s]\u001b[A\u001b[A\n",
      "\n",
      " 42%|████▏     | 93/222 [00:01<00:01, 84.76it/s]\u001b[A\u001b[A\n",
      "\n",
      " 46%|████▌     | 102/222 [00:01<00:01, 85.65it/s]\u001b[A\u001b[A\n",
      "\n",
      " 50%|█████     | 111/222 [00:01<00:01, 85.19it/s]\u001b[A\u001b[A\n",
      "\n",
      " 54%|█████▍    | 120/222 [00:01<00:01, 84.36it/s]\u001b[A\u001b[A\n",
      "\n",
      " 58%|█████▊    | 129/222 [00:01<00:01, 84.77it/s]\u001b[A\u001b[A\n",
      "\n",
      " 62%|██████▏   | 138/222 [00:01<00:00, 84.95it/s]\u001b[A\u001b[A\n",
      "\n",
      " 66%|██████▌   | 147/222 [00:01<00:00, 83.26it/s]\u001b[A\u001b[A\n",
      "\n",
      " 70%|███████   | 156/222 [00:01<00:00, 83.87it/s]\u001b[A\u001b[A\n",
      "\n",
      " 74%|███████▍  | 165/222 [00:01<00:00, 83.15it/s]\u001b[A\u001b[A\n",
      "\n",
      " 78%|███████▊  | 174/222 [00:01<00:00, 82.84it/s]\u001b[A\u001b[A\n",
      "\n",
      " 82%|████████▏ | 183/222 [00:02<00:00, 82.88it/s]\u001b[A\u001b[A\n",
      "\n",
      " 86%|████████▋ | 192/222 [00:02<00:00, 81.65it/s]\u001b[A\u001b[A\n",
      "\n",
      " 91%|█████████ | 201/222 [00:02<00:00, 81.11it/s]\u001b[A\u001b[A\n",
      "\n",
      " 95%|█████████▍| 210/222 [00:02<00:00, 81.71it/s]\u001b[A\u001b[A\n",
      "\n",
      " 99%|█████████▊| 219/222 [00:02<00:00, 83.47it/s]\u001b[A\u001b[A\n",
      "\n",
      "100%|█████████▉| 221/222 [00:02<00:00, 86.86it/s]\u001b[A\u001b[A"
     ]
    },
    {
     "name": "stdout",
     "output_type": "stream",
     "text": [
      "[MoviePy] Done.\n",
      "[MoviePy] >>>> Video ready: test_videos_output/solidWhiteRight.mp4 \n",
      "\n"
     ]
    },
    {
     "data": {
      "text/html": [
       "\n",
       "        <video width=\"960\" height=\"540\" controls>\n",
       "          <source src=\"test_videos_output/solidWhiteRight.mp4\">\n",
       "        </video>\n",
       "        "
      ],
      "text/plain": [
       "<IPython.core.display.HTML object>"
      ]
     },
     "metadata": {},
     "output_type": "display_data"
    }
   ],
   "source": [
    "testVideosOutputDir = 'test_videos_output'\n",
    "testVideoInputDir = 'test_videos'\n",
    "processVideo('solidWhiteRight.mp4', testVideoInputDir, testVideosOutputDir)"
   ]
  },
  {
   "cell_type": "markdown",
   "metadata": {},
   "source": [
    "# Yellow lane video test"
   ]
  },
  {
   "cell_type": "code",
   "execution_count": 250,
   "metadata": {
    "collapsed": false
   },
   "outputs": [
    {
     "name": "stdout",
     "output_type": "stream",
     "text": [
      "[MoviePy] >>>> Building video test_videos_output/solidYellowLeft.mp4\n",
      "[MoviePy] Writing video test_videos_output/solidYellowLeft.mp4\n"
     ]
    },
    {
     "name": "stderr",
     "output_type": "stream",
     "text": [
      "\n",
      "\n",
      "  0%|          | 0/682 [00:00<?, ?it/s]\u001b[A\u001b[A\n",
      "\n",
      "  2%|▏         | 11/682 [00:00<00:06, 106.06it/s]\u001b[A\u001b[A\n",
      "\n",
      "  3%|▎         | 23/682 [00:00<00:06, 108.55it/s]\u001b[A\u001b[A\n",
      "\n",
      "  5%|▌         | 35/682 [00:00<00:05, 110.80it/s]\u001b[A\u001b[A\n",
      "\n",
      "  7%|▋         | 47/682 [00:00<00:06, 101.20it/s]\u001b[A\u001b[A\n",
      "\n",
      "  8%|▊         | 56/682 [00:00<00:06, 96.71it/s] \u001b[A\u001b[A\n",
      "\n",
      " 10%|▉         | 65/682 [00:00<00:06, 90.57it/s]\u001b[A\u001b[A\n",
      "\n",
      " 11%|█         | 74/682 [00:00<00:07, 85.76it/s]\u001b[A\u001b[A\n",
      "\n",
      " 12%|█▏        | 82/682 [00:00<00:07, 82.07it/s]\u001b[A\u001b[A\n",
      "\n",
      " 13%|█▎        | 90/682 [00:01<00:07, 79.75it/s]\u001b[A\u001b[A\n",
      "\n",
      " 14%|█▍        | 98/682 [00:01<00:07, 75.87it/s]\u001b[A\u001b[A\n",
      "\n",
      " 16%|█▌        | 106/682 [00:01<00:07, 75.64it/s]\u001b[A\u001b[A\n",
      "\n",
      " 17%|█▋        | 114/682 [00:01<00:07, 75.09it/s]\u001b[A\u001b[A\n",
      "\n",
      " 18%|█▊        | 122/682 [00:01<00:07, 74.47it/s]\u001b[A\u001b[A\n",
      "\n",
      " 19%|█▉        | 130/682 [00:01<00:07, 74.56it/s]\u001b[A\u001b[A\n",
      "\n",
      " 20%|██        | 138/682 [00:01<00:07, 74.45it/s]\u001b[A\u001b[A\n",
      "\n",
      " 21%|██▏       | 146/682 [00:01<00:07, 74.13it/s]\u001b[A\u001b[A\n",
      "\n",
      " 23%|██▎       | 154/682 [00:01<00:07, 74.84it/s]\u001b[A\u001b[A\n",
      "\n",
      " 24%|██▍       | 162/682 [00:01<00:07, 73.53it/s]\u001b[A\u001b[A\n",
      "\n",
      " 25%|██▍       | 170/682 [00:02<00:06, 73.25it/s]\u001b[A\u001b[A\n",
      "\n",
      " 26%|██▌       | 178/682 [00:02<00:06, 72.54it/s]\u001b[A\u001b[A\n",
      "\n",
      " 27%|██▋       | 186/682 [00:02<00:06, 73.09it/s]\u001b[A\u001b[A\n",
      "\n",
      " 28%|██▊       | 194/682 [00:02<00:06, 74.49it/s]\u001b[A\u001b[A\n",
      "\n",
      " 30%|██▉       | 202/682 [00:02<00:06, 73.49it/s]\u001b[A\u001b[A\n",
      "\n",
      " 31%|███       | 211/682 [00:02<00:06, 74.82it/s]\u001b[A\u001b[A\n",
      "\n",
      " 32%|███▏      | 219/682 [00:02<00:06, 75.03it/s]\u001b[A\u001b[A\n",
      "\n",
      " 33%|███▎      | 227/682 [00:02<00:06, 75.17it/s]\u001b[A\u001b[A\n",
      "\n",
      " 34%|███▍      | 235/682 [00:02<00:06, 72.43it/s]\u001b[A\u001b[A\n",
      "\n",
      " 36%|███▌      | 243/682 [00:03<00:06, 71.80it/s]\u001b[A\u001b[A\n",
      "\n",
      " 37%|███▋      | 251/682 [00:03<00:05, 72.97it/s]\u001b[A\u001b[A\n",
      "\n",
      " 38%|███▊      | 259/682 [00:03<00:05, 74.43it/s]\u001b[A\u001b[A\n",
      "\n",
      " 39%|███▉      | 267/682 [00:03<00:05, 74.37it/s]\u001b[A\u001b[A\n",
      "\n",
      " 40%|████      | 275/682 [00:03<00:05, 73.96it/s]\u001b[A\u001b[A\n",
      "\n",
      " 41%|████▏     | 283/682 [00:03<00:05, 74.40it/s]\u001b[A\u001b[A\n",
      "\n",
      " 43%|████▎     | 291/682 [00:03<00:05, 73.39it/s]\u001b[A\u001b[A\n",
      "\n",
      " 44%|████▍     | 299/682 [00:03<00:05, 72.14it/s]\u001b[A\u001b[A\n",
      "\n",
      " 45%|████▌     | 307/682 [00:03<00:05, 73.11it/s]\u001b[A\u001b[A\n",
      "\n",
      " 46%|████▌     | 315/682 [00:04<00:05, 73.14it/s]\u001b[A\u001b[A\n",
      "\n",
      " 47%|████▋     | 323/682 [00:04<00:04, 73.46it/s]\u001b[A\u001b[A\n",
      "\n",
      " 49%|████▊     | 331/682 [00:04<00:04, 74.66it/s]\u001b[A\u001b[A\n",
      "\n",
      " 50%|████▉     | 339/682 [00:04<00:04, 74.57it/s]\u001b[A\u001b[A\n",
      "\n",
      " 51%|█████     | 347/682 [00:04<00:04, 73.81it/s]\u001b[A\u001b[A\n",
      "\n",
      " 52%|█████▏    | 355/682 [00:04<00:04, 72.41it/s]\u001b[A\u001b[A\n",
      "\n",
      " 53%|█████▎    | 363/682 [00:04<00:04, 71.94it/s]\u001b[A\u001b[A\n",
      "\n",
      " 54%|█████▍    | 371/682 [00:04<00:04, 72.69it/s]\u001b[A\u001b[A\n",
      "\n",
      " 56%|█████▌    | 379/682 [00:04<00:04, 73.22it/s]\u001b[A\u001b[A\n",
      "\n",
      " 57%|█████▋    | 387/682 [00:05<00:03, 74.94it/s]\u001b[A\u001b[A\n",
      "\n",
      " 58%|█████▊    | 395/682 [00:05<00:03, 73.98it/s]\u001b[A\u001b[A\n",
      "\n",
      " 59%|█████▉    | 403/682 [00:05<00:03, 72.54it/s]\u001b[A\u001b[A\n",
      "\n",
      " 60%|██████    | 411/682 [00:05<00:03, 73.11it/s]\u001b[A\u001b[A\n",
      "\n",
      " 61%|██████▏   | 419/682 [00:05<00:03, 73.85it/s]\u001b[A\u001b[A\n",
      "\n",
      " 63%|██████▎   | 427/682 [00:05<00:03, 73.42it/s]\u001b[A\u001b[A\n",
      "\n",
      " 64%|██████▍   | 435/682 [00:05<00:03, 73.34it/s]\u001b[A\u001b[A\n",
      "\n",
      " 65%|██████▍   | 443/682 [00:05<00:03, 74.22it/s]\u001b[A\u001b[A\n",
      "\n",
      " 66%|██████▌   | 451/682 [00:05<00:03, 72.12it/s]\u001b[A\u001b[A\n",
      "\n",
      " 67%|██████▋   | 459/682 [00:06<00:03, 73.12it/s]\u001b[A\u001b[A\n",
      "\n",
      " 69%|██████▊   | 468/682 [00:06<00:02, 75.18it/s]\u001b[A\u001b[A\n",
      "\n",
      " 70%|██████▉   | 476/682 [00:06<00:02, 74.83it/s]\u001b[A\u001b[A\n",
      "\n",
      " 71%|███████   | 484/682 [00:06<00:02, 74.63it/s]\u001b[A\u001b[A\n",
      "\n",
      " 72%|███████▏  | 492/682 [00:06<00:02, 73.96it/s]\u001b[A\u001b[A\n",
      "\n",
      " 73%|███████▎  | 500/682 [00:06<00:02, 72.96it/s]\u001b[A\u001b[A\n",
      "\n",
      " 74%|███████▍  | 508/682 [00:06<00:02, 71.82it/s]\u001b[A\u001b[A\n",
      "\n",
      " 76%|███████▌  | 516/682 [00:06<00:02, 71.97it/s]\u001b[A\u001b[A\n",
      "\n",
      " 77%|███████▋  | 524/682 [00:06<00:02, 71.59it/s]\u001b[A\u001b[A\n",
      "\n",
      " 78%|███████▊  | 532/682 [00:07<00:02, 68.94it/s]\u001b[A\u001b[A\n",
      "\n",
      " 79%|███████▉  | 539/682 [00:07<00:02, 68.63it/s]\u001b[A\u001b[A\n",
      "\n",
      " 80%|████████  | 547/682 [00:07<00:01, 68.84it/s]\u001b[A\u001b[A\n",
      "\n",
      " 81%|████████  | 554/682 [00:07<00:01, 69.07it/s]\u001b[A\u001b[A\n",
      "\n",
      " 82%|████████▏ | 561/682 [00:07<00:01, 68.15it/s]\u001b[A\u001b[A\n",
      "\n",
      " 83%|████████▎ | 569/682 [00:07<00:01, 68.67it/s]\u001b[A\u001b[A\n",
      "\n",
      " 85%|████████▍ | 577/682 [00:07<00:01, 69.08it/s]\u001b[A\u001b[A\n",
      "\n",
      " 86%|████████▌ | 585/682 [00:07<00:01, 69.41it/s]\u001b[A\u001b[A\n",
      "\n",
      " 87%|████████▋ | 592/682 [00:07<00:01, 67.75it/s]\u001b[A\u001b[A\n",
      "\n",
      " 88%|████████▊ | 599/682 [00:08<00:01, 68.23it/s]\u001b[A\u001b[A\n",
      "\n",
      " 89%|████████▉ | 606/682 [00:08<00:01, 66.38it/s]\u001b[A\u001b[A\n",
      "\n",
      " 90%|████████▉ | 613/682 [00:08<00:01, 64.89it/s]\u001b[A\u001b[A\n",
      "\n",
      " 91%|█████████ | 620/682 [00:08<00:00, 64.87it/s]\u001b[A\u001b[A\n",
      "\n",
      " 92%|█████████▏| 628/682 [00:08<00:00, 66.64it/s]\u001b[A\u001b[A\n",
      "\n",
      " 93%|█████████▎| 636/682 [00:08<00:00, 68.14it/s]\u001b[A\u001b[A\n",
      "\n",
      " 94%|█████████▍| 643/682 [00:08<00:00, 68.03it/s]\u001b[A\u001b[A\n",
      "\n",
      " 95%|█████████▌| 651/682 [00:08<00:00, 68.08it/s]\u001b[A\u001b[A\n",
      "\n",
      " 96%|█████████▋| 658/682 [00:08<00:00, 66.20it/s]\u001b[A\u001b[A\n",
      "\n",
      " 98%|█████████▊| 665/682 [00:09<00:00, 66.05it/s]\u001b[A\u001b[A\n",
      "\n",
      " 99%|█████████▊| 672/682 [00:09<00:00, 66.45it/s]\u001b[A\u001b[A\n",
      "\n",
      "100%|█████████▉| 680/682 [00:09<00:00, 67.99it/s]\u001b[A\u001b[A\n",
      "\n",
      "100%|█████████▉| 681/682 [00:09<00:00, 73.62it/s]\u001b[A\u001b[A"
     ]
    },
    {
     "name": "stdout",
     "output_type": "stream",
     "text": [
      "[MoviePy] Done.\n",
      "[MoviePy] >>>> Video ready: test_videos_output/solidYellowLeft.mp4 \n",
      "\n"
     ]
    },
    {
     "data": {
      "text/html": [
       "\n",
       "        <video width=\"960\" height=\"540\" controls>\n",
       "          <source src=\"test_videos_output/solidYellowLeft.mp4\">\n",
       "        </video>\n",
       "        "
      ],
      "text/plain": [
       "<IPython.core.display.HTML object>"
      ]
     },
     "metadata": {},
     "output_type": "display_data"
    }
   ],
   "source": [
    "processVideo('solidYellowLeft.mp4', testVideoInputDir, testVideosOutputDir)"
   ]
  },
  {
   "cell_type": "markdown",
   "metadata": {},
   "source": [
    "# Challenge video test (not so great....)"
   ]
  },
  {
   "cell_type": "code",
   "execution_count": 251,
   "metadata": {
    "collapsed": false
   },
   "outputs": [
    {
     "name": "stdout",
     "output_type": "stream",
     "text": [
      "[MoviePy] >>>> Building video test_videos_output/challenge.mp4\n",
      "[MoviePy] Writing video test_videos_output/challenge.mp4\n"
     ]
    },
    {
     "name": "stderr",
     "output_type": "stream",
     "text": [
      "\n",
      "\n",
      "  0%|          | 0/251 [00:00<?, ?it/s]\u001b[A\u001b[A\n",
      "\n",
      "  2%|▏         | 5/251 [00:00<00:05, 43.45it/s]\u001b[A\u001b[A\n",
      "\n",
      "  4%|▍         | 10/251 [00:00<00:05, 44.92it/s]\u001b[A\u001b[A\n",
      "\n",
      "  6%|▌         | 15/251 [00:00<00:05, 45.83it/s]\u001b[A\u001b[A\n",
      "\n",
      "  8%|▊         | 20/251 [00:00<00:04, 46.77it/s]\u001b[A\u001b[A\n",
      "\n",
      " 10%|▉         | 25/251 [00:00<00:04, 47.09it/s]\u001b[A\u001b[A\n",
      "\n",
      " 12%|█▏        | 30/251 [00:00<00:04, 47.20it/s]\u001b[A\u001b[A\n",
      "\n",
      " 14%|█▍        | 35/251 [00:00<00:04, 47.62it/s]\u001b[A\u001b[A\n",
      "\n",
      " 16%|█▋        | 41/251 [00:00<00:04, 48.34it/s]\u001b[A\u001b[A\n",
      "\n",
      " 18%|█▊        | 46/251 [00:00<00:04, 47.41it/s]\u001b[A\u001b[A\n",
      "\n",
      " 20%|██        | 51/251 [00:01<00:05, 39.47it/s]\u001b[A\u001b[A\n",
      "\n",
      " 22%|██▏       | 56/251 [00:01<00:05, 37.13it/s]\u001b[A\u001b[A\n",
      "\n",
      " 24%|██▍       | 60/251 [00:01<00:05, 35.94it/s]\u001b[A\u001b[A\n",
      "\n",
      " 25%|██▌       | 64/251 [00:01<00:05, 35.71it/s]\u001b[A\u001b[A\n",
      "\n",
      " 27%|██▋       | 68/251 [00:01<00:05, 34.28it/s]\u001b[A\u001b[A\n",
      "\n",
      " 29%|██▊       | 72/251 [00:01<00:05, 34.88it/s]\u001b[A\u001b[A\n",
      "\n",
      " 30%|███       | 76/251 [00:01<00:04, 35.27it/s]\u001b[A\u001b[A\n",
      "\n",
      " 32%|███▏      | 80/251 [00:02<00:04, 34.24it/s]\u001b[A\u001b[A\n",
      "\n",
      " 33%|███▎      | 84/251 [00:02<00:05, 33.21it/s]\u001b[A\u001b[A\n",
      "\n",
      " 35%|███▌      | 88/251 [00:02<00:05, 32.59it/s]\u001b[A\u001b[A\n",
      "\n",
      " 37%|███▋      | 92/251 [00:02<00:05, 31.47it/s]\u001b[A\u001b[A\n",
      "\n",
      " 38%|███▊      | 96/251 [00:02<00:04, 32.28it/s]\u001b[A\u001b[A\n",
      "\n",
      " 40%|███▉      | 100/251 [00:02<00:04, 32.20it/s]\u001b[A\u001b[A\n",
      "\n",
      " 41%|████▏     | 104/251 [00:02<00:04, 32.74it/s]\u001b[A\u001b[A\n",
      "\n",
      " 43%|████▎     | 108/251 [00:02<00:04, 33.99it/s]\u001b[A\u001b[A\n",
      "\n",
      " 45%|████▍     | 112/251 [00:02<00:04, 34.72it/s]\u001b[A\u001b[A\n",
      "\n",
      " 46%|████▌     | 116/251 [00:03<00:03, 34.83it/s]\u001b[A\u001b[A\n",
      "\n",
      " 48%|████▊     | 120/251 [00:03<00:03, 33.84it/s]\u001b[A\u001b[A\n",
      "\n",
      " 49%|████▉     | 124/251 [00:03<00:03, 33.30it/s]\u001b[A\u001b[A\n",
      "\n",
      " 51%|█████     | 128/251 [00:03<00:03, 32.67it/s]\u001b[A\u001b[A\n",
      "\n",
      " 53%|█████▎    | 132/251 [00:03<00:03, 30.96it/s]\u001b[A\u001b[A\n",
      "\n",
      " 54%|█████▍    | 136/251 [00:03<00:03, 30.58it/s]\u001b[A\u001b[A\n",
      "\n",
      " 56%|█████▌    | 140/251 [00:03<00:03, 30.77it/s]\u001b[A\u001b[A\n",
      "\n",
      " 57%|█████▋    | 144/251 [00:03<00:03, 30.91it/s]\u001b[A\u001b[A\n",
      "\n",
      " 59%|█████▉    | 148/251 [00:04<00:03, 30.41it/s]\u001b[A\u001b[A\n",
      "\n",
      " 61%|██████    | 152/251 [00:04<00:03, 29.60it/s]\u001b[A\u001b[A\n",
      "\n",
      " 62%|██████▏   | 156/251 [00:04<00:03, 30.33it/s]\u001b[A\u001b[A\n",
      "\n",
      " 64%|██████▎   | 160/251 [00:04<00:02, 30.72it/s]\u001b[A\u001b[A\n",
      "\n",
      " 65%|██████▌   | 164/251 [00:04<00:03, 26.95it/s]\u001b[A\u001b[A\n",
      "\n",
      " 67%|██████▋   | 167/251 [00:04<00:03, 27.52it/s]\u001b[A\u001b[A\n",
      "\n",
      " 68%|██████▊   | 170/251 [00:04<00:03, 26.73it/s]\u001b[A\u001b[A\n",
      "\n",
      " 69%|██████▉   | 173/251 [00:05<00:02, 26.19it/s]\u001b[A\u001b[A\n",
      "\n",
      " 70%|███████   | 176/251 [00:05<00:03, 23.54it/s]\u001b[A\u001b[A\n",
      "\n",
      " 72%|███████▏  | 180/251 [00:05<00:02, 25.65it/s]\u001b[A\u001b[A\n",
      "\n",
      " 73%|███████▎  | 184/251 [00:05<00:02, 26.19it/s]\u001b[A\u001b[A\n",
      "\n",
      " 75%|███████▍  | 187/251 [00:05<00:02, 26.03it/s]\u001b[A\u001b[A\n",
      "\n",
      " 76%|███████▌  | 190/251 [00:05<00:02, 26.07it/s]\u001b[A\u001b[A\n",
      "\n",
      " 77%|███████▋  | 193/251 [00:05<00:02, 26.48it/s]\u001b[A\u001b[A\n",
      "\n",
      " 78%|███████▊  | 196/251 [00:05<00:02, 26.29it/s]\u001b[A\u001b[A\n",
      "\n",
      " 79%|███████▉  | 199/251 [00:06<00:02, 25.49it/s]\u001b[A\u001b[A\n",
      "\n",
      " 80%|████████  | 202/251 [00:06<00:01, 25.84it/s]\u001b[A\u001b[A\n",
      "\n",
      " 82%|████████▏ | 205/251 [00:06<00:01, 26.92it/s]\u001b[A\u001b[A\n",
      "\n",
      " 83%|████████▎ | 209/251 [00:06<00:01, 28.00it/s]\u001b[A\u001b[A\n",
      "\n",
      " 84%|████████▍ | 212/251 [00:06<00:01, 27.77it/s]\u001b[A\u001b[A\n",
      "\n",
      " 86%|████████▌ | 216/251 [00:06<00:01, 28.74it/s]\u001b[A\u001b[A\n",
      "\n",
      " 88%|████████▊ | 220/251 [00:06<00:01, 30.02it/s]\u001b[A\u001b[A\n",
      "\n",
      " 89%|████████▉ | 224/251 [00:06<00:00, 30.58it/s]\u001b[A\u001b[A\n",
      "\n",
      " 91%|█████████ | 228/251 [00:07<00:00, 31.75it/s]\u001b[A\u001b[A\n",
      "\n",
      " 92%|█████████▏| 232/251 [00:07<00:00, 31.54it/s]\u001b[A\u001b[A\n",
      "\n",
      " 94%|█████████▍| 236/251 [00:07<00:00, 31.83it/s]\u001b[A\u001b[A\n",
      "\n",
      " 96%|█████████▌| 240/251 [00:07<00:00, 31.85it/s]\u001b[A\u001b[A\n",
      "\n",
      " 97%|█████████▋| 244/251 [00:07<00:00, 32.69it/s]\u001b[A\u001b[A\n",
      "\n",
      " 99%|█████████▉| 248/251 [00:07<00:00, 32.85it/s]\u001b[A\u001b[A\n",
      "\n",
      "100%|██████████| 251/251 [00:07<00:00, 32.58it/s]\u001b[A\u001b[A"
     ]
    },
    {
     "name": "stdout",
     "output_type": "stream",
     "text": [
      "[MoviePy] Done.\n",
      "[MoviePy] >>>> Video ready: test_videos_output/challenge.mp4 \n",
      "\n"
     ]
    },
    {
     "data": {
      "text/html": [
       "\n",
       "        <video width=\"960\" height=\"540\" controls>\n",
       "          <source src=\"test_videos_output/challenge.mp4\">\n",
       "        </video>\n",
       "        "
      ],
      "text/plain": [
       "<IPython.core.display.HTML object>"
      ]
     },
     "metadata": {},
     "output_type": "display_data"
    }
   ],
   "source": [
    "processVideo('challenge.mp4', testVideoInputDir, testVideosOutputDir)"
   ]
  },
  {
   "cell_type": "code",
   "execution_count": null,
   "metadata": {
    "collapsed": true
   },
   "outputs": [],
   "source": []
  }
 ],
 "metadata": {
  "kernelspec": {
   "display_name": "Python 3",
   "language": "python",
   "name": "python3"
  },
  "language_info": {
   "codemirror_mode": {
    "name": "ipython",
    "version": 3
   },
   "file_extension": ".py",
   "mimetype": "text/x-python",
   "name": "python",
   "nbconvert_exporter": "python",
   "pygments_lexer": "ipython3",
   "version": "3.5.2"
  },
  "widgets": {
   "state": {},
   "version": "1.1.2"
  }
 },
 "nbformat": 4,
 "nbformat_minor": 2
}
